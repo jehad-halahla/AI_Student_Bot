{
 "cells": [
  {
   "cell_type": "code",
   "execution_count": 1,
   "metadata": {},
   "outputs": [
    {
     "name": "stderr",
     "output_type": "stream",
     "text": [
      "C:\\Users\\SAQERpc\\AppData\\Local\\Packages\\PythonSoftwareFoundation.Python.3.11_qbz5n2kfra8p0\\LocalCache\\local-packages\\Python311\\site-packages\\sentence_transformers\\cross_encoder\\CrossEncoder.py:11: TqdmWarning: IProgress not found. Please update jupyter and ipywidgets. See https://ipywidgets.readthedocs.io/en/stable/user_install.html\n",
      "  from tqdm.autonotebook import tqdm, trange\n"
     ]
    }
   ],
   "source": [
    "import os\n",
    "from typing import List, Dict, Optional\n",
    "import chromadb\n",
    "from chromadb.utils import embedding_functions\n",
    "from sentence_transformers import SentenceTransformer\n",
    "from langchain.text_splitter import RecursiveCharacterTextSplitter, NLTKTextSplitter\n",
    "\n",
    "# Define a base TextSplitter class\n",
    "class TextSplitter:\n",
    "    def split_text(self, text: str) -> List[str]:\n",
    "        raise NotImplementedError(\"Subclasses should implement this method.\")\n",
    "\n",
    "# Implement specific text splitters\n",
    "class RecursiveCharacterTextSplitterAdapter(TextSplitter):\n",
    "    def __init__(self, chunk_size: int = 100, chunk_overlap: int = 20):\n",
    "        self.splitter = RecursiveCharacterTextSplitter(\n",
    "            chunk_size=chunk_size,\n",
    "            chunk_overlap=chunk_overlap,\n",
    "            length_function=len,\n",
    "            is_separator_regex=True\n",
    "        )\n",
    "\n",
    "    def split_text(self, text: str) -> List[str]:\n",
    "        return self.splitter.split_text(text)\n",
    "\n",
    "class NLTKTextSplitterAdapter(TextSplitter):\n",
    "    def __init__(self):\n",
    "        self.splitter = NLTKTextSplitter()\n",
    "\n",
    "    def split_text(self, text: str) -> List[str]:\n",
    "        return self.splitter.split_text(text)\n",
    "\n",
    "# Define a custom embedding function\n",
    "class CustomSentenceTransformerEmbedding(embedding_functions.EmbeddingFunction):\n",
    "    def __init__(self, model_name: str = \"sentence-transformers/paraphrase-multilingual-MiniLM-L12-v2\"):\n",
    "        self.model = SentenceTransformer(model_name)\n",
    "\n",
    "    def __call__(self, texts):\n",
    "        embeddings = self.model.encode(texts)\n",
    "        return embeddings.tolist()\n",
    "\n",
    "# Define the ChromaInterface class\n",
    "class ChromaInterface:\n",
    "    def __init__(self, collection_name: str, persist_directory: str, text_splitter: TextSplitter):\n",
    "        self.client = chromadb.PersistentClient(path=persist_directory)\n",
    "        self.embedding_function = CustomSentenceTransformerEmbedding()\n",
    "        self.collection = self.client.get_or_create_collection(\n",
    "            name=collection_name,\n",
    "            embedding_function=self.embedding_function\n",
    "        )\n",
    "        self.text_splitter = text_splitter\n",
    "\n",
    "    def add_documents_from_files(self, file_paths: List[str], metadatas: Optional[List[Dict[str, str]]] = None):\n",
    "        documents = []\n",
    "        ids = []\n",
    "        id_counter = 0  # Initialize a counter for unique IDs\n",
    "\n",
    "        for file_path in file_paths:\n",
    "            with open(file_path, 'r', encoding='utf-8') as file:\n",
    "                content = file.read()\n",
    "                # Split the content into chunks\n",
    "                split_texts = self.text_splitter.split_text(content)\n",
    "                documents.extend(split_texts)\n",
    "                # Generate unique IDs using a counter\n",
    "                for _ in split_texts:\n",
    "                    ids.append(f\"{os.path.basename(file_path)}_{id_counter}\")\n",
    "                    id_counter += 1  # Increment the counter for each chunk\n",
    "\n",
    "        if metadatas is None:\n",
    "            metadatas = [{\"source\": file_path} for file_path in file_paths]\n",
    "\n",
    "        # Adjust metadatas to match the number of document chunks\n",
    "        extended_metadatas = []\n",
    "        for i, file_path in enumerate(file_paths):\n",
    "            metadata = metadatas[i] if metadatas and i < len(metadatas) else {\"source\": file_path}\n",
    "            extended_metadatas.extend([metadata] * len(self.text_splitter.split_text(open(file_path, 'r', encoding='utf-8').read())))\n",
    "\n",
    "        self.collection.add(\n",
    "            documents=documents,\n",
    "            metadatas=extended_metadatas,\n",
    "            ids=ids\n",
    "        )\n",
    "\n",
    "    def query(self, query_text: str, n_results: int = 30):\n",
    "        results = self.collection.query(\n",
    "            query_texts=[query_text],\n",
    "            n_results=n_results\n",
    "        )['documents']\n",
    "        return results  # List of strings\n",
    "\n"
   ]
  },
  {
   "cell_type": "code",
   "execution_count": 2,
   "metadata": {},
   "outputs": [],
   "source": [
    "# Initialize the interface\n",
    "text_splitter = RecursiveCharacterTextSplitterAdapter(chunk_size=200, chunk_overlap=20)\n",
    "\n",
    "chroma_interface = ChromaInterface(\"taw_hist\",\n",
    "                                   \"DB/chroma_db\",\n",
    "                                       text_splitter=text_splitter\n",
    ")\n",
    "\n",
    "\n",
    "\n"
   ]
  },
  {
   "cell_type": "code",
   "execution_count": 2,
   "metadata": {},
   "outputs": [
    {
     "ename": "NameError",
     "evalue": "name 'chroma_interface' is not defined",
     "output_type": "error",
     "traceback": [
      "\u001b[1;31m---------------------------------------------------------------------------\u001b[0m",
      "\u001b[1;31mNameError\u001b[0m                                 Traceback (most recent call last)",
      "Cell \u001b[1;32mIn[2], line 1\u001b[0m\n\u001b[1;32m----> 1\u001b[0m \u001b[43mchroma_interface\u001b[49m\u001b[38;5;241m.\u001b[39mclient\u001b[38;5;241m.\u001b[39mlist_collections()\n",
      "\u001b[1;31mNameError\u001b[0m: name 'chroma_interface' is not defined"
     ]
    }
   ],
   "source": [
    "chroma_interface.client.list_collections()\n"
   ]
  },
  {
   "cell_type": "code",
   "execution_count": 4,
   "metadata": {},
   "outputs": [],
   "source": [
    "# Add documents from text files\n",
    "text_files = [\"taw_hist_merged_file.txt\"]\n",
    "chroma_interface.add_documents_from_files(text_files)"
   ]
  },
  {
   "cell_type": "code",
   "execution_count": 5,
   "metadata": {},
   "outputs": [
    {
     "data": {
      "text/plain": [
       "1235"
      ]
     },
     "execution_count": 5,
     "metadata": {},
     "output_type": "execute_result"
    }
   ],
   "source": [
    "len(chroma_interface.collection.get()['ids'])"
   ]
  },
  {
   "cell_type": "code",
   "execution_count": 157,
   "metadata": {},
   "outputs": [
    {
     "ename": "PermissionError",
     "evalue": "[WinError 32] The process cannot access the file because it is being used by another process: 'DB/chroma_db\\\\0c6f6859-c986-4dd1-aa42-d09f9c3138b9\\\\data_level0.bin'",
     "output_type": "error",
     "traceback": [
      "\u001b[1;31m---------------------------------------------------------------------------\u001b[0m",
      "\u001b[1;31mPermissionError\u001b[0m                           Traceback (most recent call last)",
      "Cell \u001b[1;32mIn[157], line 2\u001b[0m\n\u001b[0;32m      1\u001b[0m \u001b[38;5;66;03m# Assuming you have already initialized the Chroma collection\u001b[39;00m\n\u001b[1;32m----> 2\u001b[0m \u001b[43mchroma_interface\u001b[49m\u001b[38;5;241;43m.\u001b[39;49m\u001b[43mclient\u001b[49m\u001b[38;5;241;43m.\u001b[39;49m\u001b[43mdelete_collection\u001b[49m\u001b[43m(\u001b[49m\u001b[43mname\u001b[49m\u001b[38;5;241;43m=\u001b[39;49m\u001b[38;5;124;43m\"\u001b[39;49m\u001b[38;5;124;43mspain_hist\u001b[39;49m\u001b[38;5;124;43m\"\u001b[39;49m\u001b[43m)\u001b[49m  \u001b[38;5;66;03m# This deletes all documents in the collection\u001b[39;00m\n",
      "File \u001b[1;32mc:\\Users\\PC\\scoop\\apps\\python\\current\\Lib\\site-packages\\chromadb\\api\\client.py:198\u001b[0m, in \u001b[0;36mClient.delete_collection\u001b[1;34m(self, name)\u001b[0m\n\u001b[0;32m    193\u001b[0m \u001b[38;5;129m@override\u001b[39m\n\u001b[0;32m    194\u001b[0m \u001b[38;5;28;01mdef\u001b[39;00m \u001b[38;5;21mdelete_collection\u001b[39m(\n\u001b[0;32m    195\u001b[0m     \u001b[38;5;28mself\u001b[39m,\n\u001b[0;32m    196\u001b[0m     name: \u001b[38;5;28mstr\u001b[39m,\n\u001b[0;32m    197\u001b[0m ) \u001b[38;5;241m-\u001b[39m\u001b[38;5;241m>\u001b[39m \u001b[38;5;28;01mNone\u001b[39;00m:\n\u001b[1;32m--> 198\u001b[0m     \u001b[38;5;28;01mreturn\u001b[39;00m \u001b[38;5;28;43mself\u001b[39;49m\u001b[38;5;241;43m.\u001b[39;49m\u001b[43m_server\u001b[49m\u001b[38;5;241;43m.\u001b[39;49m\u001b[43mdelete_collection\u001b[49m\u001b[43m(\u001b[49m\n\u001b[0;32m    199\u001b[0m \u001b[43m        \u001b[49m\u001b[43mname\u001b[49m\u001b[38;5;241;43m=\u001b[39;49m\u001b[43mname\u001b[49m\u001b[43m,\u001b[49m\n\u001b[0;32m    200\u001b[0m \u001b[43m        \u001b[49m\u001b[43mtenant\u001b[49m\u001b[38;5;241;43m=\u001b[39;49m\u001b[38;5;28;43mself\u001b[39;49m\u001b[38;5;241;43m.\u001b[39;49m\u001b[43mtenant\u001b[49m\u001b[43m,\u001b[49m\n\u001b[0;32m    201\u001b[0m \u001b[43m        \u001b[49m\u001b[43mdatabase\u001b[49m\u001b[38;5;241;43m=\u001b[39;49m\u001b[38;5;28;43mself\u001b[39;49m\u001b[38;5;241;43m.\u001b[39;49m\u001b[43mdatabase\u001b[49m\u001b[43m,\u001b[49m\n\u001b[0;32m    202\u001b[0m \u001b[43m    \u001b[49m\u001b[43m)\u001b[49m\n",
      "File \u001b[1;32mc:\\Users\\PC\\scoop\\apps\\python\\current\\Lib\\site-packages\\chromadb\\telemetry\\opentelemetry\\__init__.py:146\u001b[0m, in \u001b[0;36mtrace_method.<locals>.decorator.<locals>.wrapper\u001b[1;34m(*args, **kwargs)\u001b[0m\n\u001b[0;32m    144\u001b[0m \u001b[38;5;28;01mglobal\u001b[39;00m tracer, granularity\n\u001b[0;32m    145\u001b[0m \u001b[38;5;28;01mif\u001b[39;00m trace_granularity \u001b[38;5;241m<\u001b[39m granularity:\n\u001b[1;32m--> 146\u001b[0m     \u001b[38;5;28;01mreturn\u001b[39;00m \u001b[43mf\u001b[49m\u001b[43m(\u001b[49m\u001b[38;5;241;43m*\u001b[39;49m\u001b[43margs\u001b[49m\u001b[43m,\u001b[49m\u001b[43m \u001b[49m\u001b[38;5;241;43m*\u001b[39;49m\u001b[38;5;241;43m*\u001b[39;49m\u001b[43mkwargs\u001b[49m\u001b[43m)\u001b[49m\n\u001b[0;32m    147\u001b[0m \u001b[38;5;28;01mif\u001b[39;00m \u001b[38;5;129;01mnot\u001b[39;00m tracer:\n\u001b[0;32m    148\u001b[0m     \u001b[38;5;28;01mreturn\u001b[39;00m f(\u001b[38;5;241m*\u001b[39margs, \u001b[38;5;241m*\u001b[39m\u001b[38;5;241m*\u001b[39mkwargs)\n",
      "File \u001b[1;32mc:\\Users\\PC\\scoop\\apps\\python\\current\\Lib\\site-packages\\chromadb\\api\\segment.py:321\u001b[0m, in \u001b[0;36mSegmentAPI.delete_collection\u001b[1;34m(self, name, tenant, database)\u001b[0m\n\u001b[0;32m    317\u001b[0m \u001b[38;5;28;01mif\u001b[39;00m existing:\n\u001b[0;32m    318\u001b[0m     \u001b[38;5;28mself\u001b[39m\u001b[38;5;241m.\u001b[39m_sysdb\u001b[38;5;241m.\u001b[39mdelete_collection(\n\u001b[0;32m    319\u001b[0m         existing[\u001b[38;5;241m0\u001b[39m]\u001b[38;5;241m.\u001b[39mid, tenant\u001b[38;5;241m=\u001b[39mtenant, database\u001b[38;5;241m=\u001b[39mdatabase\n\u001b[0;32m    320\u001b[0m     )\n\u001b[1;32m--> 321\u001b[0m     \u001b[38;5;28;01mfor\u001b[39;00m s \u001b[38;5;129;01min\u001b[39;00m \u001b[38;5;28;43mself\u001b[39;49m\u001b[38;5;241;43m.\u001b[39;49m\u001b[43m_manager\u001b[49m\u001b[38;5;241;43m.\u001b[39;49m\u001b[43mdelete_segments\u001b[49m\u001b[43m(\u001b[49m\u001b[43mexisting\u001b[49m\u001b[43m[\u001b[49m\u001b[38;5;241;43m0\u001b[39;49m\u001b[43m]\u001b[49m\u001b[38;5;241;43m.\u001b[39;49m\u001b[43mid\u001b[49m\u001b[43m)\u001b[49m:\n\u001b[0;32m    322\u001b[0m         \u001b[38;5;28mself\u001b[39m\u001b[38;5;241m.\u001b[39m_sysdb\u001b[38;5;241m.\u001b[39mdelete_segment(s)\n\u001b[0;32m    323\u001b[0m     \u001b[38;5;28;01mif\u001b[39;00m existing \u001b[38;5;129;01mand\u001b[39;00m existing[\u001b[38;5;241m0\u001b[39m]\u001b[38;5;241m.\u001b[39mid \u001b[38;5;129;01min\u001b[39;00m \u001b[38;5;28mself\u001b[39m\u001b[38;5;241m.\u001b[39m_collection_cache:\n",
      "File \u001b[1;32mc:\\Users\\PC\\scoop\\apps\\python\\current\\Lib\\site-packages\\chromadb\\telemetry\\opentelemetry\\__init__.py:146\u001b[0m, in \u001b[0;36mtrace_method.<locals>.decorator.<locals>.wrapper\u001b[1;34m(*args, **kwargs)\u001b[0m\n\u001b[0;32m    144\u001b[0m \u001b[38;5;28;01mglobal\u001b[39;00m tracer, granularity\n\u001b[0;32m    145\u001b[0m \u001b[38;5;28;01mif\u001b[39;00m trace_granularity \u001b[38;5;241m<\u001b[39m granularity:\n\u001b[1;32m--> 146\u001b[0m     \u001b[38;5;28;01mreturn\u001b[39;00m \u001b[43mf\u001b[49m\u001b[43m(\u001b[49m\u001b[38;5;241;43m*\u001b[39;49m\u001b[43margs\u001b[49m\u001b[43m,\u001b[49m\u001b[43m \u001b[49m\u001b[38;5;241;43m*\u001b[39;49m\u001b[38;5;241;43m*\u001b[39;49m\u001b[43mkwargs\u001b[49m\u001b[43m)\u001b[49m\n\u001b[0;32m    147\u001b[0m \u001b[38;5;28;01mif\u001b[39;00m \u001b[38;5;129;01mnot\u001b[39;00m tracer:\n\u001b[0;32m    148\u001b[0m     \u001b[38;5;28;01mreturn\u001b[39;00m f(\u001b[38;5;241m*\u001b[39margs, \u001b[38;5;241m*\u001b[39m\u001b[38;5;241m*\u001b[39mkwargs)\n",
      "File \u001b[1;32mc:\\Users\\PC\\scoop\\apps\\python\\current\\Lib\\site-packages\\chromadb\\segment\\impl\\manager\\local.py:159\u001b[0m, in \u001b[0;36mLocalSegmentManager.delete_segments\u001b[1;34m(self, collection_id)\u001b[0m\n\u001b[0;32m    157\u001b[0m \u001b[38;5;28;01mif\u001b[39;00m segment[\u001b[38;5;124m\"\u001b[39m\u001b[38;5;124mtype\u001b[39m\u001b[38;5;124m\"\u001b[39m] \u001b[38;5;241m==\u001b[39m SegmentType\u001b[38;5;241m.\u001b[39mHNSW_LOCAL_PERSISTED\u001b[38;5;241m.\u001b[39mvalue:\n\u001b[0;32m    158\u001b[0m     instance \u001b[38;5;241m=\u001b[39m \u001b[38;5;28mself\u001b[39m\u001b[38;5;241m.\u001b[39mget_segment(collection_id, VectorReader)\n\u001b[1;32m--> 159\u001b[0m     \u001b[43minstance\u001b[49m\u001b[38;5;241;43m.\u001b[39;49m\u001b[43mdelete\u001b[49m\u001b[43m(\u001b[49m\u001b[43m)\u001b[49m\n\u001b[0;32m    160\u001b[0m \u001b[38;5;28;01melif\u001b[39;00m segment[\u001b[38;5;124m\"\u001b[39m\u001b[38;5;124mtype\u001b[39m\u001b[38;5;124m\"\u001b[39m] \u001b[38;5;241m==\u001b[39m SegmentType\u001b[38;5;241m.\u001b[39mSQLITE\u001b[38;5;241m.\u001b[39mvalue:\n\u001b[0;32m    161\u001b[0m     instance \u001b[38;5;241m=\u001b[39m \u001b[38;5;28mself\u001b[39m\u001b[38;5;241m.\u001b[39mget_segment(collection_id, MetadataReader)  \u001b[38;5;66;03m# type: ignore[assignment]\u001b[39;00m\n",
      "File \u001b[1;32mc:\\Users\\PC\\scoop\\apps\\python\\current\\Lib\\site-packages\\chromadb\\telemetry\\opentelemetry\\__init__.py:146\u001b[0m, in \u001b[0;36mtrace_method.<locals>.decorator.<locals>.wrapper\u001b[1;34m(*args, **kwargs)\u001b[0m\n\u001b[0;32m    144\u001b[0m \u001b[38;5;28;01mglobal\u001b[39;00m tracer, granularity\n\u001b[0;32m    145\u001b[0m \u001b[38;5;28;01mif\u001b[39;00m trace_granularity \u001b[38;5;241m<\u001b[39m granularity:\n\u001b[1;32m--> 146\u001b[0m     \u001b[38;5;28;01mreturn\u001b[39;00m \u001b[43mf\u001b[49m\u001b[43m(\u001b[49m\u001b[38;5;241;43m*\u001b[39;49m\u001b[43margs\u001b[49m\u001b[43m,\u001b[49m\u001b[43m \u001b[49m\u001b[38;5;241;43m*\u001b[39;49m\u001b[38;5;241;43m*\u001b[39;49m\u001b[43mkwargs\u001b[49m\u001b[43m)\u001b[49m\n\u001b[0;32m    147\u001b[0m \u001b[38;5;28;01mif\u001b[39;00m \u001b[38;5;129;01mnot\u001b[39;00m tracer:\n\u001b[0;32m    148\u001b[0m     \u001b[38;5;28;01mreturn\u001b[39;00m f(\u001b[38;5;241m*\u001b[39margs, \u001b[38;5;241m*\u001b[39m\u001b[38;5;241m*\u001b[39mkwargs)\n",
      "File \u001b[1;32mc:\\Users\\PC\\scoop\\apps\\python\\current\\Lib\\site-packages\\chromadb\\segment\\impl\\vector\\local_persistent_hnsw.py:439\u001b[0m, in \u001b[0;36mPersistentLocalHnswSegment.delete\u001b[1;34m(self)\u001b[0m\n\u001b[0;32m    437\u001b[0m \u001b[38;5;28;01mif\u001b[39;00m os\u001b[38;5;241m.\u001b[39mpath\u001b[38;5;241m.\u001b[39mexists(data_path):\n\u001b[0;32m    438\u001b[0m     \u001b[38;5;28mself\u001b[39m\u001b[38;5;241m.\u001b[39mclose_persistent_index()\n\u001b[1;32m--> 439\u001b[0m     \u001b[43mshutil\u001b[49m\u001b[38;5;241;43m.\u001b[39;49m\u001b[43mrmtree\u001b[49m\u001b[43m(\u001b[49m\u001b[43mdata_path\u001b[49m\u001b[43m,\u001b[49m\u001b[43m \u001b[49m\u001b[43mignore_errors\u001b[49m\u001b[38;5;241;43m=\u001b[39;49m\u001b[38;5;28;43;01mFalse\u001b[39;49;00m\u001b[43m)\u001b[49m\n",
      "File \u001b[1;32mc:\\Users\\PC\\scoop\\apps\\python\\current\\Lib\\shutil.py:820\u001b[0m, in \u001b[0;36mrmtree\u001b[1;34m(path, ignore_errors, onerror, onexc, dir_fd)\u001b[0m\n\u001b[0;32m    818\u001b[0m     \u001b[38;5;66;03m# can't continue even if onexc hook returns\u001b[39;00m\n\u001b[0;32m    819\u001b[0m     \u001b[38;5;28;01mreturn\u001b[39;00m\n\u001b[1;32m--> 820\u001b[0m \u001b[38;5;28;01mreturn\u001b[39;00m \u001b[43m_rmtree_unsafe\u001b[49m\u001b[43m(\u001b[49m\u001b[43mpath\u001b[49m\u001b[43m,\u001b[49m\u001b[43m \u001b[49m\u001b[43monexc\u001b[49m\u001b[43m)\u001b[49m\n",
      "File \u001b[1;32mc:\\Users\\PC\\scoop\\apps\\python\\current\\Lib\\shutil.py:648\u001b[0m, in \u001b[0;36m_rmtree_unsafe\u001b[1;34m(path, onexc)\u001b[0m\n\u001b[0;32m    646\u001b[0m             os\u001b[38;5;241m.\u001b[39munlink(fullname)\n\u001b[0;32m    647\u001b[0m         \u001b[38;5;28;01mexcept\u001b[39;00m \u001b[38;5;167;01mOSError\u001b[39;00m \u001b[38;5;28;01mas\u001b[39;00m err:\n\u001b[1;32m--> 648\u001b[0m             \u001b[43monexc\u001b[49m\u001b[43m(\u001b[49m\u001b[43mos\u001b[49m\u001b[38;5;241;43m.\u001b[39;49m\u001b[43munlink\u001b[49m\u001b[43m,\u001b[49m\u001b[43m \u001b[49m\u001b[43mfullname\u001b[49m\u001b[43m,\u001b[49m\u001b[43m \u001b[49m\u001b[43merr\u001b[49m\u001b[43m)\u001b[49m\n\u001b[0;32m    649\u001b[0m \u001b[38;5;28;01mtry\u001b[39;00m:\n\u001b[0;32m    650\u001b[0m     os\u001b[38;5;241m.\u001b[39mrmdir(path)\n",
      "File \u001b[1;32mc:\\Users\\PC\\scoop\\apps\\python\\current\\Lib\\shutil.py:646\u001b[0m, in \u001b[0;36m_rmtree_unsafe\u001b[1;34m(path, onexc)\u001b[0m\n\u001b[0;32m    644\u001b[0m \u001b[38;5;28;01melse\u001b[39;00m:\n\u001b[0;32m    645\u001b[0m     \u001b[38;5;28;01mtry\u001b[39;00m:\n\u001b[1;32m--> 646\u001b[0m         \u001b[43mos\u001b[49m\u001b[38;5;241;43m.\u001b[39;49m\u001b[43munlink\u001b[49m\u001b[43m(\u001b[49m\u001b[43mfullname\u001b[49m\u001b[43m)\u001b[49m\n\u001b[0;32m    647\u001b[0m     \u001b[38;5;28;01mexcept\u001b[39;00m \u001b[38;5;167;01mOSError\u001b[39;00m \u001b[38;5;28;01mas\u001b[39;00m err:\n\u001b[0;32m    648\u001b[0m         onexc(os\u001b[38;5;241m.\u001b[39munlink, fullname, err)\n",
      "\u001b[1;31mPermissionError\u001b[0m: [WinError 32] The process cannot access the file because it is being used by another process: 'DB/chroma_db\\\\0c6f6859-c986-4dd1-aa42-d09f9c3138b9\\\\data_level0.bin'"
     ]
    }
   ],
   "source": [
    "# Assuming you have already initialized the Chroma collection\n",
    "chroma_interface.client.delete_collection(name=\"spain_hist\")  # This deletes all documents in the collection\n",
    "\n"
   ]
  },
  {
   "cell_type": "code",
   "execution_count": 6,
   "metadata": {},
   "outputs": [
    {
     "name": "stdout",
     "output_type": "stream",
     "text": [
      "[['الحرب بسرعة الحركة» والانتشار فى يساحات واسعة؛ لإبقاء العدوٌ فى حالة استنفار وضربه فى كلّ مكان؛ لإجهاده؛ وإلحاق أكبر قدر ممكن من الخسائر به» وضرب البنية السّحتيّة له؛ والهجوم بأعداد صغيرة» والقدرة', '* تعريف المقصود بالحروب الفرنجية.\\n* توضيح دوافع الحروب الفرنجية.\\n* بيان سير أبرز الحملات الفرنجية إلى الشرق.\\n* الموازنة بين أخلاقيات القتال عند كل من الفرنجة والمسلمين أثناء الحروب الفرنجية.', 'والثقافية من الهجمات العسكرية. ومن مبادئه:', '* استكشاف نتائج الحروب الفرنجية على الشرق.', 'أساساً على ا( لهجوم المفاجئ» والاختفاء (الكرّ. والفرٌ) . تلجاً إليها القوى الصغيرة» أو الضٌّعيفة العدد والعتاد. عندما لا يكون لديها القدرة على خوض الحرب ضد الجيوش التظاميّة. وأكثر من يلجاً إلى هذا', 'وهناك دوافع أخرى لاندلاع الحروب؛ منها: فشل الحلول السّلمية في حلّ التوتّرات» أو الهروب من الأزمات الدّاخليّة؛ وتصديرها للخارج» أو ازدياد الرّوح العدوانيّة؛ نتيجة لشعور أمّة معيّنة بامتلاكها قدرة', '**المحتويات**\\n\\nالجزء الأول: فتوحات وحروب عابرة للقارات', '**كيفية تجنب هذه الأماكن ويلات الحروب:**', 'التهيئة الحافزة:\\n\\nهناك من يرى أن الحرب شر مهما تعددت أسبابها ومبرراتها. في حين يرى آخرون أن الحرب مبررة أحياناً في حالات الدفاع عن النفس، أو التوسع والهيمنة، أو الاستقلال.\\n\\nنقاط للإجابة:', 'الاجتماعئئ.  وتحوّل الحراك إلى الأسلوب العسكريّ في بعض الدّول العريّة ضدّ الحكومات الشَّرعيَّة» كما حدث في', 'الإمداد والتموين. واقتصرت على شنّ الغارات في عهد الخليفة عثمان بن عفان. ثمّ توثّقت؛ بسبب الصراع الذي نشب بين عليّ بن أبي طالب ومعاوية بن أبي سفيان على الخلافة، واندلاع معركة صفين بين أنصار الطرفين.', 'الخصيصة المحفزة:', 'الحرب الأهلّة البنانيّة عام 316١م\\u200f  © الحرب الباردة: تُعيّف بأنّها حالة من الصّراع بين طرفَيّن» يستخدمان فيها كثيراً من الوسائل دون الأسلحة»  والصدام العسكريٌ. ومن الأمثلة عليها: الحرب الباردة بين', 'د- الإعلان العالمي لحقوق الإنسان.\\n© السؤال الثاني: عرف ما يأتي: الحرب والحرب الباردة.\\n© السؤال الثالث: أوضح ميزات حرب العصابات؛ مع الأمثلة.\\n© السؤال الرابع: علل الآتي:\\n- اختلاف نوع الحرب.', '* الضرورة العسكرية: إن هدف الحرب الذي تسعى إليه الأطراف المتحاربة هو إضعاف قوات العدو وقدراتها الحربية على مواصلة القتال وتحقيق النصر بأقل الخسائر؛ لذا فإن العنف الذي لا ضرورة له يصبح عملاً وحشياً', 'ثابتة» تدعو إلى نبذ العف والحرب» وتنادي بالعدالة والسّلام العالمئ» بغرض تخفيف المعاناة» وتوفير الحماية؛ وصوّن الكرامة الإنسانيّة؛ وقد جاءت (المواثيق الدّوليّة) متمثلة فى مجموعة القواعد التي تنظّم', 'من يلجاً إلى هذا الدوع من الحروب حركات التّحيِّر الوطنيئ المي تهدف إلى تحرير المجتمع من نير الحكومات الظالمة؛ أو التّخلّص من القوى الاستعماريّة؛ والحصول على الاستقلال. وتتميّز هذه الحرب بسرعة الحركة»', 'الحرب: نقيض السلم، وهي صراع بين طرفين، يستخدم كل طرف أسلحته المادية وغير المادية في سبيل تحقيق أهدافه وتحقيق النصر على الطرف الآخر.\\n\\n- نبحث عن تعريفات أخرى للحرب.', 'أثناء الحروب. وهي تتمثل: بضرورة إعلام العدو وإنذاره قبل بدء الحرب، ورفض قتل النساء، والأطفال، وكبار السن، والرهبان، ورفض استخدام الوسائل العنيفة ما دام يمكن تحقيق هدف الحرب بوسائل بسيطة؛ ومنع تسميم', 'السؤال الثاني: عرّف ما يأتي: الحرب، والحرب الباردة.\\n\\nالسؤال الثالث: أوضح ميزات حرب العصابات، مع الأمثلة.\\n\\nالسؤال الرابع: علّل ما يلي:', '\\u200e-١\\u200f ما أول معركة في فتوحات الإسلام؟\\n\\u200fأ- أجنادين. ب- اليرموك. جد داثن. د- بُصرى.\\n\\n\\u200f- ما المعركة الحاسمة في فتوحات فارس؟\\n\\u200fأ- الجسر. ب- القادسية. جد عين التمر. د- نهاوند.', 'الضرورية العسكرية: إن هدف الحرب الذي تسعى إليه الأطراف المتحاربة هو إضعاف قوات العدو وقدراتها الحربية على مواصلة القتال، وتحقيق النصر بأقل الخسائر، لذا فإن العنف الذي لا ضرورة له يصبح عملاً وحشياً', '©- أي الآتية تشكّل ضرورة من ضرورات الوحدة القومية؟\\nأ- زرع بذور الحرب.\\nب- سلخ الشعوب عن أوطانها.\\nج- تماسك الأمة ووحدتها.\\nد- الهيمنة الاستعمارية.', 'ضدٌّ الولايات المتّحدة الأمريكيّة.  © الحرب الشاملة: يشترك فيها عدد كبير من دول العالم» كالحربين العالمِتَيْنِ الأولى» والثانية؛ ويستخدم فيها كل أنواع الأسلحة.  © الحرب الأهليَّة: تدور بين أبناء', 'بالسلاح، ما أعطى انطباعًا واضحًا عن الطبيعة السلمية للانتفاضة ووحشية الاحتلال وممارسة سياسة تكسير العظام. وأخيرًا، استُخدم الأسلوب العسكري فيعُرف بعسكرة الانتفاضة؛ وهي دعوات ركّزت على استخدام السلاح', 'النسبية أو التناسب: مراعاة التناسب بين الضرر الذي قد يلحق بالعدو والمزايا العسكرية الممكن تحقيقها نتيجة لاستخدام القوة أثناء الحرب، ويجب على الأطراف المتحاربة اتخاذ الاحتياطات الضرورية لتفادي إلحاق', '* حفّقوا -> حققوا', '* النسبية أو التناسب: مراعاة التناسب بين الضرر الذي قد يلحق بالعدو والمزايا العسكرية الممكن تحقيقها نتيجة لاستخدام القوة أثناء الحرب؛ ويجب على الأطراف المتحاربة اتخاذ الاحتياطات الضرورية لتفادي إلحاق', 'تدور بين أبناء الشّعب الواحد» وتتعدّد أسبابها: كالخروج على الاضطهاد والاستبداد» أو الرّغبة فيبالإمبراطورية. **تصحيح الأخطاء الإملائية:**', 'الخدمات الإنسانية، وحماية الأعيان المدنية والثقافية من الهجمات العسكرية. ومن مبادئه:']]\n"
     ]
    }
   ],
   "source": [
    "# Query the collection\n",
    "#chroma_interface = ChromaInterface(\"gaza\",\"DB/chroma_db\")\n",
    "query_results = chroma_interface.query(\"ما هي معركة حطين\")\n",
    "print(query_results) #list of strings\n"
   ]
  },
  {
   "cell_type": "code",
   "execution_count": 128,
   "metadata": {},
   "outputs": [
    {
     "data": {
      "text/plain": [
       "[['قالب:روابط شقيقة\\nقالب:الحرب الفلسطينية الإسرائيلية 2023\\nقالب:حروب إسرائيل\\nقالب:ضبط استنادي\\nقالب:شريط بوابات',\n",
       "  'وفي 23 يونيو/حزيران، قال رئيس الوزراء الإسرائيلي بنيامين نتنياهو إن «المرحلة الأكثر شدة من القتال ضد حماس في غزة تقترب من نهايتها، مما يسمح لبعض القوات بالانتقال إلى الحدود اللبنانية، حيث تصاعدت عمليات تبادل إطلاق النار مع حزب الله». كما صرح بأنه «منفتح على اتفاق جزئي مع حماس لإعادة بعض الرهائن، لكن الحرب ستستمر بعد فترة توقف من أجل القضاء على حماس»،[391][392] وقالت حماس إن أي اتفاق يجب أن يتضمن وقف إطلاق نار دائم وانسحاب القوات الإسرائيلية من غزة، وأن موقف نتنياهو يؤكد رفضه لاتفاق وقف إطلاق',\n",
       "  'لاتفاق وقف إطلاق النار الذي طرحته الولايات المتحدة وقرار مجلس الأمن التابع للأمم المتحدة الأخير.[393]',\n",
       "  'ضمن الاشتباكات الإسرائيلية الفلسطينية 2021 التي عرفت بأحداث الشيخ جراح في القدس، وأخرى كرد على عملية \"الفجر الصادق\" التي نفذتها إسرائيل على قطاع غزة عام 2022. وتسبب ذلك في دمار للمدنيين من كلا الجانبين، وتزايد عدد القتلى الفلسطينيين. لكن على الرغم من تزايد العنف، وجدت القيادة الإسرائيلية أن هذا الترتيب يمكن التحكم فيه، بالاعتماد على نظام الدفاع الصاروخي القبة الحديدية للدفاع واستخدام الضربات المستهدفة، والتي يطلق عليها مجازا «جز العشب» (بالإنجليزية: mowing the grass)\\u200f، لإبقاء حماس «تحت',\n",
       "  'معركة طوفان الأقصى[95] أو حرب السيوف الحديدية[96] أو الحرب الفلسطينية الإسرائيلية أو الحرب الإسرائيلية على غزة[97][98] أو العدوان الإسرائيلي على غزة[99][100] هي حرب مستمرة بين فصائل المقاومة الفلسطينية بقيادة حركة حماس[101][يد] من جهة وبين الجيش الإسرائيلي من جهة أخرى.[102][103][104] بدأت بعد هجوم نوعي منسَّق ومُفاجئ شنَّته حركة حماس على إسرائيل والذي أسمته بعملية طوفان الأقصى في صباح يوم السبت (7 تشرين الأول/أكتوبر 2023 م) الموافق (22 ربيع الأوَّل 1445 هـ) وذلك بإطلاق ما لا يقلُّ عن 3000 صاروخ']]"
      ]
     },
     "execution_count": 128,
     "metadata": {},
     "output_type": "execute_result"
    }
   ],
   "source": [
    "query_results"
   ]
  }
 ],
 "metadata": {
  "kernelspec": {
   "display_name": "Python 3",
   "language": "python",
   "name": "python3"
  },
  "language_info": {
   "codemirror_mode": {
    "name": "ipython",
    "version": 3
   },
   "file_extension": ".py",
   "mimetype": "text/x-python",
   "name": "python",
   "nbconvert_exporter": "python",
   "pygments_lexer": "ipython3",
   "version": "3.11.9"
  }
 },
 "nbformat": 4,
 "nbformat_minor": 4
}
